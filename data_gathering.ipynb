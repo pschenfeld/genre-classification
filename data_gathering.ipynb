{
 "cells": [
  {
   "attachments": {},
   "cell_type": "markdown",
   "metadata": {},
   "source": [
    "---\n",
    "title: \"Data Gathering\"\n",
    "format: html\n",
    "link-external-newwindow: true\n",
    "bibliography: reference.bib\n",
    "website:\n",
    "  back-to-top-navigation: true\n",
    "---"
   ]
  },
  {
   "attachments": {},
   "cell_type": "markdown",
   "metadata": {},
   "source": [
    "## Introduction\n",
    "In the world of data-driven decision-making, the process of data gathering serves as the foundation of any meaningful analysis. I collected data from diverse sources, including APIs and databases. These sources collectively provide a comprehensive dataset that forms the cornerstone of insightful analysis."
   ]
  },
  {
   "attachments": {},
   "cell_type": "markdown",
   "metadata": {},
   "source": [
    "## News API\n",
    "\n",
    "I harnessed the power of the [News API](https://newsapi.org/docs/get-started) to curate a collection of articles centered around Spotify. By collecting article titles and descriptions, I compiled a diverse dataset that encapsulates the latest insights and developments within the world of music and technology. "
   ]
  },
  {
   "attachments": {},
   "cell_type": "markdown",
   "metadata": {},
   "source": [
    "## Electronic Dance Music Subgenres\n",
    "\n",
    "Using Spotify's API in R, I collected 10 of the msot popular artists for each of the main subgenres of EDM: tech-house, techno, trance, dubstep, and drum and bass (dnb). I then requested the audio features of those artists of each genre to then store in a new dataset. Each genre has it's own table containing information about the music defining that genre.\n",
    "\n",
    "Below are examples of a song from each of the 5 genres. Take a listen to discern the differences between the genres!"
   ]
  },
  {
   "attachments": {},
   "cell_type": "markdown",
   "metadata": {},
   "source": [
    "**Tech House**\n",
    "\n",
    "<iframe style=\"border-radius:12px\" src=\"https://open.spotify.com/embed/track/6ho0GyrWZN3mhi9zVRW7xi?utm_source=generator&theme=0\" width=\"100%\" height=\"152\" frameBorder=\"0\" allowfullscreen=\"\" allow=\"autoplay; clipboard-write; encrypted-media; fullscreen; picture-in-picture\" loading=\"lazy\"></iframe>\n",
    "\n",
    "**Techno**\n",
    "\n",
    "<iframe style=\"border-radius:12px\" src=\"https://open.spotify.com/embed/track/0n2jPpNThUiLaf39k1Jfz7?utm_source=generator&theme=0\" width=\"100%\" height=\"152\" frameBorder=\"0\" allowfullscreen=\"\" allow=\"autoplay; clipboard-write; encrypted-media; fullscreen; picture-in-picture\" loading=\"lazy\"></iframe>\n",
    "\n",
    "**Trance**\n",
    "\n",
    "<iframe style=\"border-radius:12px\" src=\"https://open.spotify.com/embed/track/1O3lfI2E0L8SFF9n78a9qU?utm_source=generator&theme=0\" width=\"100%\" height=\"152\" frameBorder=\"0\" allowfullscreen=\"\" allow=\"autoplay; clipboard-write; encrypted-media; fullscreen; picture-in-picture\" loading=\"lazy\"></iframe>\n",
    "\n",
    "**Dubstep**\n",
    "\n",
    "<iframe style=\"border-radius:12px\" src=\"https://open.spotify.com/embed/track/0x66nbDEEZtWx4qJdILucR?utm_source=generator&theme=0\" width=\"100%\" height=\"152\" frameBorder=\"0\" allowfullscreen=\"\" allow=\"autoplay; clipboard-write; encrypted-media; fullscreen; picture-in-picture\" loading=\"lazy\"></iframe>\n",
    "\n",
    "**Drum and Bass**\n",
    "\n",
    "<iframe style=\"border-radius:12px\" src=\"https://open.spotify.com/embed/track/0G7qyvqwjfMdHZn4RwiAdf?utm_source=generator&theme=0\" width=\"100%\" height=\"152\" frameBorder=\"0\" allowfullscreen=\"\" allow=\"autoplay; clipboard-write; encrypted-media; fullscreen; picture-in-picture\" loading=\"lazy\"></iframe>"
   ]
  },
  {
   "attachments": {},
   "cell_type": "markdown",
   "metadata": {},
   "source": [
    "## Spotify Google Play Store Reviews\n",
    "\n",
    "This [dataset](https://www.kaggle.com/datasets/mfaaris/spotify-app-reviews-2022) contains over 61 thousand reviews from the Google Play Store of the Spotify app from 1/1/2022 - 7/9/2022.\n",
    "\n",
    "\n"
   ]
  },
  {
   "attachments": {},
   "cell_type": "markdown",
   "metadata": {},
   "source": [
    "## Spotify Revenue, Expenses, & Premium Users\n",
    "\n",
    "This dataset consists of Spotify's financial and user-related data, including information on revenue and expenses. It also provides key user metrics, such as the number of premium users, the number of ad-supported users, and the total count of monthly active users (MAUs). This dataset allows for analysis of Spotify's financial performance and user engagement over time, providing valuable insights into the company's growth and profitability.\n",
    "\n"
   ]
  },
  {
   "attachments": {},
   "cell_type": "markdown",
   "metadata": {},
   "source": [
    "## Spotify User Behavior\n",
    "\n",
    "The Spotify User Behavior Dataset from [Kaggle](https://www.kaggle.com/datasets/meeraajayakumar/spotify-user-behavior-dataset) is a repository of anonymized data, designed to provide extensive insights into the behavior and preferences of Spotify users. This dataset is purpose-built for in-depth analysis of user interactions, music consumption behaviors, and engagement metrics within the Spotify music streaming platform\n",
    "\n"
   ]
  }
 ],
 "metadata": {
  "language_info": {
   "name": "python"
  },
  "orig_nbformat": 4
 },
 "nbformat": 4,
 "nbformat_minor": 2
}
